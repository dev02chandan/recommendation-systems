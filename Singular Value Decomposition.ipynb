{
  "nbformat": 4,
  "nbformat_minor": 0,
  "metadata": {
    "colab": {
      "provenance": [],
      "mount_file_id": "1_vS74u9M88R8A4LPEw_AuqgzEckH62BX",
      "authorship_tag": "ABX9TyOEPDVieHQ8ZYh30VRHlX3v",
      "include_colab_link": true
    },
    "kernelspec": {
      "name": "python3",
      "display_name": "Python 3"
    },
    "language_info": {
      "name": "python"
    }
  },
  "cells": [
    {
      "cell_type": "markdown",
      "metadata": {
        "id": "view-in-github",
        "colab_type": "text"
      },
      "source": [
        "<a href=\"https://colab.research.google.com/github/dev02chandan/recommendation-systems/blob/main/Singular%20Value%20Decomposition.ipynb\" target=\"_parent\"><img src=\"https://colab.research.google.com/assets/colab-badge.svg\" alt=\"Open In Colab\"/></a>"
      ]
    },
    {
      "cell_type": "markdown",
      "source": [
        "# **Recommendation Using Singular Value Decomposition**\n",
        "\n",
        "1.\tCreate a toy dataset\n",
        "2.\tSplit the data into train and test (70:30)\n",
        "3.\tApplying SVD to Toy matrix A\n",
        "\n",
        "    a.\tTesting using SVD in Toy dataset Selecting k = 1,2,3 and 5. Which value of k gives the best RMSE? What is the relationship between the k and RMSE?\n",
        "\n",
        "    b.\tTest with New user with rating:  1 1 3 0 4\n",
        "\n",
        "4.\tOn Movie Lense dataset(Ratings.csv)\n",
        "\n",
        "    a.\tData Exploration\n",
        "\n",
        "    b.\tModel Creation without SVD\n",
        "\n",
        "    c.\tRMSE without SVD  (Report the best RMSE by tuning the hyper parameters of the model)\n",
        "\n",
        "    d.\tModel creation using SVD\n",
        "\n",
        "    e.\tModel tuning for different value of k\n",
        "\n",
        "    f.\tRMSE using SVD\n",
        "\n",
        "    g.\tGenerate top-10 recommendations for a target user.\n",
        "\n",
        "\n"
      ],
      "metadata": {
        "id": "NM3jsmZ0jCkk"
      }
    },
    {
      "cell_type": "markdown",
      "source": [
        "## Task 1,2,3"
      ],
      "metadata": {
        "id": "TNzd0wbvBLwK"
      }
    },
    {
      "cell_type": "code",
      "source": [
        "import numpy as np"
      ],
      "metadata": {
        "id": "0_1ueeRVkR0c"
      },
      "execution_count": 1,
      "outputs": []
    },
    {
      "cell_type": "code",
      "execution_count": 2,
      "metadata": {
        "id": "2WAWA34Ph6nE"
      },
      "outputs": [],
      "source": [
        "user_item_matrix = np.random.randint(low = 1, high = 6, size=(10, 10))"
      ]
    },
    {
      "cell_type": "code",
      "source": [
        "user_item_matrix"
      ],
      "metadata": {
        "colab": {
          "base_uri": "https://localhost:8080/"
        },
        "id": "TZRXZsQFkKwq",
        "outputId": "d1315628-1c12-4867-bdf7-d5aa8b8db687"
      },
      "execution_count": 3,
      "outputs": [
        {
          "output_type": "execute_result",
          "data": {
            "text/plain": [
              "array([[3, 3, 5, 4, 3, 5, 3, 2, 3, 4],\n",
              "       [3, 5, 1, 1, 3, 3, 2, 2, 5, 1],\n",
              "       [3, 2, 1, 5, 4, 4, 2, 3, 1, 3],\n",
              "       [4, 1, 4, 2, 2, 5, 4, 3, 2, 1],\n",
              "       [3, 2, 2, 1, 3, 3, 1, 1, 5, 4],\n",
              "       [2, 4, 4, 1, 4, 5, 5, 3, 1, 1],\n",
              "       [3, 2, 2, 2, 2, 1, 3, 1, 4, 5],\n",
              "       [5, 5, 1, 2, 1, 2, 2, 2, 5, 4],\n",
              "       [2, 3, 1, 3, 5, 3, 3, 5, 3, 2],\n",
              "       [2, 5, 4, 3, 1, 2, 2, 3, 4, 3]])"
            ]
          },
          "metadata": {},
          "execution_count": 3
        }
      ]
    },
    {
      "cell_type": "code",
      "source": [
        "from sklearn.model_selection import train_test_split"
      ],
      "metadata": {
        "id": "bArDwqY1kLnE"
      },
      "execution_count": 4,
      "outputs": []
    },
    {
      "cell_type": "code",
      "source": [
        "train_ds, test_ds = train_test_split(user_item_matrix, test_size=0.3 )"
      ],
      "metadata": {
        "id": "B_Xnl6JPkaE_"
      },
      "execution_count": 5,
      "outputs": []
    },
    {
      "cell_type": "code",
      "source": [
        "train_ds"
      ],
      "metadata": {
        "colab": {
          "base_uri": "https://localhost:8080/"
        },
        "id": "7QQaJc4wkksA",
        "outputId": "173664d2-d866-42d3-fe7d-3610448b1640"
      },
      "execution_count": 6,
      "outputs": [
        {
          "output_type": "execute_result",
          "data": {
            "text/plain": [
              "array([[4, 1, 4, 2, 2, 5, 4, 3, 2, 1],\n",
              "       [2, 3, 1, 3, 5, 3, 3, 5, 3, 2],\n",
              "       [2, 4, 4, 1, 4, 5, 5, 3, 1, 1],\n",
              "       [5, 5, 1, 2, 1, 2, 2, 2, 5, 4],\n",
              "       [3, 2, 2, 2, 2, 1, 3, 1, 4, 5],\n",
              "       [2, 5, 4, 3, 1, 2, 2, 3, 4, 3],\n",
              "       [3, 5, 1, 1, 3, 3, 2, 2, 5, 1]])"
            ]
          },
          "metadata": {},
          "execution_count": 6
        }
      ]
    },
    {
      "cell_type": "code",
      "source": [
        "test_ds"
      ],
      "metadata": {
        "colab": {
          "base_uri": "https://localhost:8080/"
        },
        "id": "YXnpIom9klNf",
        "outputId": "a42a91f7-5c0d-4e86-d5df-9efdabf9a235"
      },
      "execution_count": 7,
      "outputs": [
        {
          "output_type": "execute_result",
          "data": {
            "text/plain": [
              "array([[3, 3, 5, 4, 3, 5, 3, 2, 3, 4],\n",
              "       [3, 2, 1, 5, 4, 4, 2, 3, 1, 3],\n",
              "       [3, 2, 2, 1, 3, 3, 1, 1, 5, 4]])"
            ]
          },
          "metadata": {},
          "execution_count": 7
        }
      ]
    },
    {
      "cell_type": "code",
      "source": [
        "#Computing Total Mean Squared Error\n",
        "#--------------------------------\n",
        "from numpy.linalg import norm\n",
        "\n",
        "def error(R,P,Q,lamda=0.02):\n",
        "    ratings = R.data\n",
        "    rows = R.row\n",
        "    cols = R.col\n",
        "    e = 0\n",
        "    for ui in range(len(ratings)):\n",
        "        rui=ratings[ui]\n",
        "        u = rows[ui]\n",
        "        i = cols[ui]\n",
        "        if rui>0:\n",
        "            e= e + pow(rui-np.dot(P[u,:],Q[:,i]),2)+\\\n",
        "                lamda*(pow(norm(P[u,:]),2)+pow(norm(Q[:,i]),2))\n",
        "    return e"
      ],
      "metadata": {
        "id": "n2HoH0jWkmAb"
      },
      "execution_count": 8,
      "outputs": []
    },
    {
      "cell_type": "code",
      "source": [
        "M, N = train_ds.shape"
      ],
      "metadata": {
        "id": "YOwbkcwblJ7H"
      },
      "execution_count": 9,
      "outputs": []
    },
    {
      "cell_type": "code",
      "source": [
        "M"
      ],
      "metadata": {
        "colab": {
          "base_uri": "https://localhost:8080/"
        },
        "id": "2SidXSrRluxQ",
        "outputId": "cf8ef3c7-a016-4a17-b99f-b86a0636b6c7"
      },
      "execution_count": 10,
      "outputs": [
        {
          "output_type": "execute_result",
          "data": {
            "text/plain": [
              "7"
            ]
          },
          "metadata": {},
          "execution_count": 10
        }
      ]
    },
    {
      "cell_type": "code",
      "source": [
        "N"
      ],
      "metadata": {
        "colab": {
          "base_uri": "https://localhost:8080/"
        },
        "id": "WCH3eLBTlzaE",
        "outputId": "d2b8d489-3288-44a3-945a-7b9c97085dc9"
      },
      "execution_count": 11,
      "outputs": [
        {
          "output_type": "execute_result",
          "data": {
            "text/plain": [
              "10"
            ]
          },
          "metadata": {},
          "execution_count": 11
        }
      ]
    },
    {
      "cell_type": "code",
      "source": [
        "K = [1, 2, 3, 5]"
      ],
      "metadata": {
        "id": "--I7rQCjlzpq"
      },
      "execution_count": 12,
      "outputs": []
    },
    {
      "cell_type": "code",
      "source": [
        "P = np.random.rand(M, K[2])\n",
        "Q = np.random.rand(K[2], N)"
      ],
      "metadata": {
        "id": "ITeaFHtUl1dZ"
      },
      "execution_count": 13,
      "outputs": []
    },
    {
      "cell_type": "code",
      "source": [
        "P"
      ],
      "metadata": {
        "colab": {
          "base_uri": "https://localhost:8080/"
        },
        "id": "lOXP8LUbl2F4",
        "outputId": "1b50fb11-b3c8-4e1e-ec81-662326732c71"
      },
      "execution_count": 14,
      "outputs": [
        {
          "output_type": "execute_result",
          "data": {
            "text/plain": [
              "array([[0.18169571, 0.65659481, 0.3096181 ],\n",
              "       [0.59480881, 0.48021584, 0.01668502],\n",
              "       [0.64610541, 0.2856222 , 0.16476582],\n",
              "       [0.49775885, 0.06175918, 0.53166375],\n",
              "       [0.7816273 , 0.38988841, 0.61573954],\n",
              "       [0.6432536 , 0.54820354, 0.83015728],\n",
              "       [0.06186277, 0.72988701, 0.19683531]])"
            ]
          },
          "metadata": {},
          "execution_count": 14
        }
      ]
    },
    {
      "cell_type": "code",
      "source": [
        "Q"
      ],
      "metadata": {
        "colab": {
          "base_uri": "https://localhost:8080/"
        },
        "id": "S4bXuoswl6_8",
        "outputId": "ecb64ba1-e30c-457e-a020-186881a52e59"
      },
      "execution_count": 15,
      "outputs": [
        {
          "output_type": "execute_result",
          "data": {
            "text/plain": [
              "array([[0.2783167 , 0.44957434, 0.58848332, 0.33638678, 0.61875182,\n",
              "        0.93816148, 0.72372275, 0.35430417, 0.64310911, 0.56224058],\n",
              "       [0.79240447, 0.41433745, 0.57165187, 0.10660029, 0.87387431,\n",
              "        0.92539814, 0.06388404, 0.3390655 , 0.97872873, 0.53788045],\n",
              "       [0.653182  , 0.99109022, 0.06074422, 0.61966698, 0.69540809,\n",
              "        0.42728788, 0.4927993 , 0.30095739, 0.26040443, 0.73193088]])"
            ]
          },
          "metadata": {},
          "execution_count": 15
        }
      ]
    },
    {
      "cell_type": "code",
      "source": [
        "from scipy.sparse import coo_matrix\n",
        "\n",
        "R = coo_matrix(train_ds)\n",
        "\n",
        "print (\"R Shape::\", R.shape)\n",
        "print (\"R Columns::\", R.col)\n",
        "print (\"R Rows::\",R.row)"
      ],
      "metadata": {
        "colab": {
          "base_uri": "https://localhost:8080/"
        },
        "id": "bsXPz8zEmkm8",
        "outputId": "58ecabf2-56be-4a65-afa6-afae18a6729b"
      },
      "execution_count": 16,
      "outputs": [
        {
          "output_type": "stream",
          "name": "stdout",
          "text": [
            "R Shape:: (7, 10)\n",
            "R Columns:: [0 1 2 3 4 5 6 7 8 9 0 1 2 3 4 5 6 7 8 9 0 1 2 3 4 5 6 7 8 9 0 1 2 3 4 5 6\n",
            " 7 8 9 0 1 2 3 4 5 6 7 8 9 0 1 2 3 4 5 6 7 8 9 0 1 2 3 4 5 6 7 8 9]\n",
            "R Rows:: [0 0 0 0 0 0 0 0 0 0 1 1 1 1 1 1 1 1 1 1 2 2 2 2 2 2 2 2 2 2 3 3 3 3 3 3 3\n",
            " 3 3 3 4 4 4 4 4 4 4 4 4 4 5 5 5 5 5 5 5 5 5 5 6 6 6 6 6 6 6 6 6 6]\n"
          ]
        }
      ]
    },
    {
      "cell_type": "code",
      "source": [
        "error(R, P, Q)"
      ],
      "metadata": {
        "colab": {
          "base_uri": "https://localhost:8080/"
        },
        "id": "Zgu6u1vxl7rf",
        "outputId": "adc8e606-c0e8-4449-f82d-c27231038402"
      },
      "execution_count": 17,
      "outputs": [
        {
          "output_type": "execute_result",
          "data": {
            "text/plain": [
              "442.37399346348633"
            ]
          },
          "metadata": {},
          "execution_count": 17
        }
      ]
    },
    {
      "cell_type": "code",
      "source": [
        "for i in K:\n",
        "    M, N = train_ds.shape\n",
        "    P = np.random.rand(M, i)\n",
        "    Q = np.random.rand(i, N)\n",
        "    R = coo_matrix(train_ds)\n",
        "    print(\"K = \", i, \" Error: \", error(R, P, Q))"
      ],
      "metadata": {
        "colab": {
          "base_uri": "https://localhost:8080/"
        },
        "id": "IQnM-yeemWnm",
        "outputId": "a0e145f9-35ce-412e-a3f8-c723931b6b89"
      },
      "execution_count": 18,
      "outputs": [
        {
          "output_type": "stream",
          "name": "stdout",
          "text": [
            "K =  1  Error:  607.1998393841434\n",
            "K =  2  Error:  502.1049831518942\n",
            "K =  3  Error:  450.9473010972853\n",
            "K =  5  Error:  282.984663734113\n"
          ]
        }
      ]
    },
    {
      "cell_type": "markdown",
      "source": [
        "**Observation:** As the value of K increases (1, 2, 3, 5), the Error decreases"
      ],
      "metadata": {
        "id": "zDmNDM8unQXe"
      }
    },
    {
      "cell_type": "code",
      "source": [
        "import scipy"
      ],
      "metadata": {
        "id": "gelG5dqkm2O6"
      },
      "execution_count": 19,
      "outputs": []
    },
    {
      "cell_type": "code",
      "source": [
        "U, S, Vh = scipy.linalg.svd(train_ds, full_matrices=True)"
      ],
      "metadata": {
        "id": "6Sq76Nkzn3Of"
      },
      "execution_count": 20,
      "outputs": []
    },
    {
      "cell_type": "code",
      "source": [
        "U.shape, S.shape, Vh.shape"
      ],
      "metadata": {
        "colab": {
          "base_uri": "https://localhost:8080/"
        },
        "id": "bRpfalhloEvM",
        "outputId": "cc2fa8d3-85d3-468c-df65-84384bf34c60"
      },
      "execution_count": 21,
      "outputs": [
        {
          "output_type": "execute_result",
          "data": {
            "text/plain": [
              "((7, 7), (7,), (10, 10))"
            ]
          },
          "metadata": {},
          "execution_count": 21
        }
      ]
    },
    {
      "cell_type": "code",
      "source": [
        "Uk = U[:, :K[2]]"
      ],
      "metadata": {
        "id": "N8xYj_rioIbB"
      },
      "execution_count": 22,
      "outputs": []
    },
    {
      "cell_type": "code",
      "source": [
        "Sk = np.diag(S[:K[2]])"
      ],
      "metadata": {
        "id": "T1cyG6-DosTY"
      },
      "execution_count": 23,
      "outputs": []
    },
    {
      "cell_type": "code",
      "source": [
        "Vhk = Vh[:K[2], :]"
      ],
      "metadata": {
        "id": "fQeu90eoosk7"
      },
      "execution_count": 24,
      "outputs": []
    },
    {
      "cell_type": "code",
      "source": [
        "Uk.shape, Sk.shape, Vhk.shape"
      ],
      "metadata": {
        "colab": {
          "base_uri": "https://localhost:8080/"
        },
        "id": "XBgcJGAVos1Z",
        "outputId": "e9d7be29-f4b2-442b-bdf8-7cde35cf955b"
      },
      "execution_count": 25,
      "outputs": [
        {
          "output_type": "execute_result",
          "data": {
            "text/plain": [
              "((7, 3), (3, 3), (3, 10))"
            ]
          },
          "metadata": {},
          "execution_count": 25
        }
      ]
    },
    {
      "cell_type": "code",
      "source": [
        "Uk @ Sk @ Vhk"
      ],
      "metadata": {
        "colab": {
          "base_uri": "https://localhost:8080/"
        },
        "id": "BQeonnbbp9Sk",
        "outputId": "3ebf6e83-94ca-4379-8d79-92ea8d8a7ef0"
      },
      "execution_count": 26,
      "outputs": [
        {
          "output_type": "execute_result",
          "data": {
            "text/plain": [
              "array([[3.00495558, 1.77523981, 4.46122863, 1.80674204, 2.29741865,\n",
              "        4.47652767, 4.43752139, 2.68003928, 1.42409389, 1.74560546],\n",
              "       [2.13141485, 4.42789141, 1.52830165, 1.88479421, 4.34940558,\n",
              "        3.61258732, 2.96896525, 3.90581465, 3.21008162, 0.998453  ],\n",
              "       [2.43989129, 2.76560078, 3.72564357, 1.83033087, 3.96668045,\n",
              "        5.07471065, 4.50900934, 3.82484873, 1.55099594, 0.72437254],\n",
              "       [3.92106472, 4.68099131, 1.68306593, 2.39539775, 1.45146192,\n",
              "        1.5073765 , 2.02227298, 1.98700983, 5.44476643, 4.29640623],\n",
              "       [3.55114581, 3.04201196, 2.40393071, 1.97840218, 0.60722039,\n",
              "        1.61750506, 2.22468765, 1.31135481, 3.92551041, 3.78473469],\n",
              "       [3.48742884, 3.85840108, 2.38039465, 2.17505021, 1.91914268,\n",
              "        2.45835383, 2.72038732, 2.32245924, 4.14692407, 3.29745233],\n",
              "       [2.48628164, 4.66639824, 0.87647988, 1.93917406, 3.21902597,\n",
              "        2.28621493, 2.04142464, 3.041408  , 4.17411174, 2.07900662]])"
            ]
          },
          "metadata": {},
          "execution_count": 26
        }
      ]
    },
    {
      "cell_type": "code",
      "source": [
        "reconstructed = Uk @ Sk @ Vhk"
      ],
      "metadata": {
        "id": "N1Um12TeqcGP"
      },
      "execution_count": 27,
      "outputs": []
    },
    {
      "cell_type": "code",
      "source": [
        "rmse = np.sqrt(np.mean((train_ds - reconstructed) ** 2))"
      ],
      "metadata": {
        "id": "OH-ebZV5qLU5"
      },
      "execution_count": 28,
      "outputs": []
    },
    {
      "cell_type": "code",
      "source": [
        "rmse"
      ],
      "metadata": {
        "colab": {
          "base_uri": "https://localhost:8080/"
        },
        "id": "a2mcIDfGqg7R",
        "outputId": "67d62fd6-cd4f-4566-a118-40b9d7fefc5f"
      },
      "execution_count": 29,
      "outputs": [
        {
          "output_type": "execute_result",
          "data": {
            "text/plain": [
              "0.7191161746692761"
            ]
          },
          "metadata": {},
          "execution_count": 29
        }
      ]
    },
    {
      "cell_type": "code",
      "source": [
        "for i in K:\n",
        "    U, S, Vh = scipy.linalg.svd(train_ds, full_matrices=True)\n",
        "    Uk = U[: , :i]\n",
        "    Sk = np.diag(S[:i])\n",
        "    Vhk = Vh[:i, :]\n",
        "    reconstructed = Uk @ Sk @ Vhk\n",
        "    rmse = np.sqrt(np.mean((train_ds - reconstructed) ** 2))\n",
        "    print(\"K = \", i, \" RSMError: \", rmse)"
      ],
      "metadata": {
        "colab": {
          "base_uri": "https://localhost:8080/"
        },
        "id": "VCRZA0Htqhsx",
        "outputId": "7868b168-f8b1-40ec-e5e7-fb7a113a9c99"
      },
      "execution_count": 30,
      "outputs": [
        {
          "output_type": "stream",
          "name": "stdout",
          "text": [
            "K =  1  RSMError:  1.2741816280118967\n",
            "K =  2  RSMError:  0.9067897486177955\n",
            "K =  3  RSMError:  0.7191161746692761\n",
            "K =  5  RSMError:  0.36744638451205247\n"
          ]
        }
      ]
    },
    {
      "cell_type": "markdown",
      "source": [
        "**Observation:** As the value of K increases (1, 2, 3, 5), the Error decreases"
      ],
      "metadata": {
        "id": "m3JoHWnKrvGy"
      }
    },
    {
      "cell_type": "code",
      "source": [
        "new_user_ratings = [1, 1, 3, 0, 4]\n",
        "new = np.array(new_user_ratings)"
      ],
      "metadata": {
        "id": "10eHBXWPrLnd"
      },
      "execution_count": 31,
      "outputs": []
    },
    {
      "cell_type": "code",
      "source": [
        "new"
      ],
      "metadata": {
        "colab": {
          "base_uri": "https://localhost:8080/"
        },
        "id": "jwk9G8o-66F_",
        "outputId": "3cbd3eb3-f7e5-404c-ad76-bbc7339e6876"
      },
      "execution_count": 32,
      "outputs": [
        {
          "output_type": "execute_result",
          "data": {
            "text/plain": [
              "array([1, 1, 3, 0, 4])"
            ]
          },
          "metadata": {},
          "execution_count": 32
        }
      ]
    },
    {
      "cell_type": "code",
      "source": [
        "user_item_matrix = np.random.randint(low = 1, high = 6, size=(5,5))\n",
        "user_item_matrix"
      ],
      "metadata": {
        "colab": {
          "base_uri": "https://localhost:8080/"
        },
        "id": "1bnI3cMT7Vhx",
        "outputId": "2f20b690-c09e-4843-b1a3-aa6d800824a3"
      },
      "execution_count": 33,
      "outputs": [
        {
          "output_type": "execute_result",
          "data": {
            "text/plain": [
              "array([[3, 1, 5, 3, 1],\n",
              "       [2, 2, 4, 2, 5],\n",
              "       [5, 2, 2, 1, 5],\n",
              "       [1, 2, 4, 2, 2],\n",
              "       [3, 5, 1, 1, 1]])"
            ]
          },
          "metadata": {},
          "execution_count": 33
        }
      ]
    },
    {
      "cell_type": "code",
      "source": [
        "user_item_matrix = np.append(user_item_matrix, [new], axis=0)\n",
        "user_item_matrix"
      ],
      "metadata": {
        "colab": {
          "base_uri": "https://localhost:8080/"
        },
        "id": "GMuwxqOY7YC9",
        "outputId": "a697d133-651a-4f64-d935-ef25b378265e"
      },
      "execution_count": 34,
      "outputs": [
        {
          "output_type": "execute_result",
          "data": {
            "text/plain": [
              "array([[3, 1, 5, 3, 1],\n",
              "       [2, 2, 4, 2, 5],\n",
              "       [5, 2, 2, 1, 5],\n",
              "       [1, 2, 4, 2, 2],\n",
              "       [3, 5, 1, 1, 1],\n",
              "       [1, 1, 3, 0, 4]])"
            ]
          },
          "metadata": {},
          "execution_count": 34
        }
      ]
    },
    {
      "cell_type": "code",
      "source": [
        "U, S, Vh = scipy.linalg.svd(user_item_matrix, full_matrices=True)\n",
        "Uk = U[: , :3]\n",
        "Sk = np.diag(S[:3])\n",
        "Vhk = Vh[:3, :]\n",
        "reconstructed = Uk @ Sk @ Vhk\n",
        "reconstructed"
      ],
      "metadata": {
        "colab": {
          "base_uri": "https://localhost:8080/"
        },
        "id": "KVfskZce66k9",
        "outputId": "f293e58b-39bd-4d91-9f87-4b7d5a448919"
      },
      "execution_count": 35,
      "outputs": [
        {
          "output_type": "execute_result",
          "data": {
            "text/plain": [
              "array([[1.95145597, 1.8100656 , 5.07909994, 2.93463331, 1.28739213],\n",
              "       [2.69862908, 1.54276025, 4.16544944, 1.65111867, 4.7264195 ],\n",
              "       [3.83714877, 2.93905324, 2.1952942 , 0.7339978 , 5.2782409 ],\n",
              "       [1.74934683, 1.41073763, 3.91611345, 2.09592779, 1.80490907],\n",
              "       [3.66076884, 4.45047514, 0.84691462, 1.22690792, 0.85774276],\n",
              "       [1.56915407, 0.42155706, 2.59018506, 0.6954595 , 3.98206682]])"
            ]
          },
          "metadata": {},
          "execution_count": 35
        }
      ]
    },
    {
      "cell_type": "markdown",
      "source": [
        "After SVD, the predicted value is negative depicting the limitation of SVD. SVD output ratings are not bound in a certain range."
      ],
      "metadata": {
        "id": "rNXK7g7n8P5t"
      }
    },
    {
      "cell_type": "markdown",
      "source": [
        "## Reading the Dataset and Exploratory Data analysis"
      ],
      "metadata": {
        "id": "0MQJUjJNBGeG"
      }
    },
    {
      "cell_type": "code",
      "source": [
        "import pandas as pd"
      ],
      "metadata": {
        "id": "GqFADRLA8FiK"
      },
      "execution_count": 36,
      "outputs": []
    },
    {
      "cell_type": "code",
      "source": [
        "df = pd.read_csv('/content/drive/MyDrive/RS/4ratings.csv')\n",
        "df"
      ],
      "metadata": {
        "colab": {
          "base_uri": "https://localhost:8080/",
          "height": 423
        },
        "id": "cYqwEhzp8iqi",
        "outputId": "30d87abd-2349-4cb8-af7b-f8c408d3ae41"
      },
      "execution_count": 37,
      "outputs": [
        {
          "output_type": "execute_result",
          "data": {
            "text/plain": [
              "        userId  movieId  rating   timestamp\n",
              "0            1        1     4.0   964982703\n",
              "1            1        3     4.0   964981247\n",
              "2            1        6     4.0   964982224\n",
              "3            1       47     5.0   964983815\n",
              "4            1       50     5.0   964982931\n",
              "...        ...      ...     ...         ...\n",
              "100831     610   166534     4.0  1493848402\n",
              "100832     610   168248     5.0  1493850091\n",
              "100833     610   168250     5.0  1494273047\n",
              "100834     610   168252     5.0  1493846352\n",
              "100835     610   170875     3.0  1493846415\n",
              "\n",
              "[100836 rows x 4 columns]"
            ],
            "text/html": [
              "\n",
              "  <div id=\"df-88a78ed7-d0d3-4ce4-aa52-ae890a39573b\" class=\"colab-df-container\">\n",
              "    <div>\n",
              "<style scoped>\n",
              "    .dataframe tbody tr th:only-of-type {\n",
              "        vertical-align: middle;\n",
              "    }\n",
              "\n",
              "    .dataframe tbody tr th {\n",
              "        vertical-align: top;\n",
              "    }\n",
              "\n",
              "    .dataframe thead th {\n",
              "        text-align: right;\n",
              "    }\n",
              "</style>\n",
              "<table border=\"1\" class=\"dataframe\">\n",
              "  <thead>\n",
              "    <tr style=\"text-align: right;\">\n",
              "      <th></th>\n",
              "      <th>userId</th>\n",
              "      <th>movieId</th>\n",
              "      <th>rating</th>\n",
              "      <th>timestamp</th>\n",
              "    </tr>\n",
              "  </thead>\n",
              "  <tbody>\n",
              "    <tr>\n",
              "      <th>0</th>\n",
              "      <td>1</td>\n",
              "      <td>1</td>\n",
              "      <td>4.0</td>\n",
              "      <td>964982703</td>\n",
              "    </tr>\n",
              "    <tr>\n",
              "      <th>1</th>\n",
              "      <td>1</td>\n",
              "      <td>3</td>\n",
              "      <td>4.0</td>\n",
              "      <td>964981247</td>\n",
              "    </tr>\n",
              "    <tr>\n",
              "      <th>2</th>\n",
              "      <td>1</td>\n",
              "      <td>6</td>\n",
              "      <td>4.0</td>\n",
              "      <td>964982224</td>\n",
              "    </tr>\n",
              "    <tr>\n",
              "      <th>3</th>\n",
              "      <td>1</td>\n",
              "      <td>47</td>\n",
              "      <td>5.0</td>\n",
              "      <td>964983815</td>\n",
              "    </tr>\n",
              "    <tr>\n",
              "      <th>4</th>\n",
              "      <td>1</td>\n",
              "      <td>50</td>\n",
              "      <td>5.0</td>\n",
              "      <td>964982931</td>\n",
              "    </tr>\n",
              "    <tr>\n",
              "      <th>...</th>\n",
              "      <td>...</td>\n",
              "      <td>...</td>\n",
              "      <td>...</td>\n",
              "      <td>...</td>\n",
              "    </tr>\n",
              "    <tr>\n",
              "      <th>100831</th>\n",
              "      <td>610</td>\n",
              "      <td>166534</td>\n",
              "      <td>4.0</td>\n",
              "      <td>1493848402</td>\n",
              "    </tr>\n",
              "    <tr>\n",
              "      <th>100832</th>\n",
              "      <td>610</td>\n",
              "      <td>168248</td>\n",
              "      <td>5.0</td>\n",
              "      <td>1493850091</td>\n",
              "    </tr>\n",
              "    <tr>\n",
              "      <th>100833</th>\n",
              "      <td>610</td>\n",
              "      <td>168250</td>\n",
              "      <td>5.0</td>\n",
              "      <td>1494273047</td>\n",
              "    </tr>\n",
              "    <tr>\n",
              "      <th>100834</th>\n",
              "      <td>610</td>\n",
              "      <td>168252</td>\n",
              "      <td>5.0</td>\n",
              "      <td>1493846352</td>\n",
              "    </tr>\n",
              "    <tr>\n",
              "      <th>100835</th>\n",
              "      <td>610</td>\n",
              "      <td>170875</td>\n",
              "      <td>3.0</td>\n",
              "      <td>1493846415</td>\n",
              "    </tr>\n",
              "  </tbody>\n",
              "</table>\n",
              "<p>100836 rows × 4 columns</p>\n",
              "</div>\n",
              "    <div class=\"colab-df-buttons\">\n",
              "\n",
              "  <div class=\"colab-df-container\">\n",
              "    <button class=\"colab-df-convert\" onclick=\"convertToInteractive('df-88a78ed7-d0d3-4ce4-aa52-ae890a39573b')\"\n",
              "            title=\"Convert this dataframe to an interactive table.\"\n",
              "            style=\"display:none;\">\n",
              "\n",
              "  <svg xmlns=\"http://www.w3.org/2000/svg\" height=\"24px\" viewBox=\"0 -960 960 960\">\n",
              "    <path d=\"M120-120v-720h720v720H120Zm60-500h600v-160H180v160Zm220 220h160v-160H400v160Zm0 220h160v-160H400v160ZM180-400h160v-160H180v160Zm440 0h160v-160H620v160ZM180-180h160v-160H180v160Zm440 0h160v-160H620v160Z\"/>\n",
              "  </svg>\n",
              "    </button>\n",
              "\n",
              "  <style>\n",
              "    .colab-df-container {\n",
              "      display:flex;\n",
              "      gap: 12px;\n",
              "    }\n",
              "\n",
              "    .colab-df-convert {\n",
              "      background-color: #E8F0FE;\n",
              "      border: none;\n",
              "      border-radius: 50%;\n",
              "      cursor: pointer;\n",
              "      display: none;\n",
              "      fill: #1967D2;\n",
              "      height: 32px;\n",
              "      padding: 0 0 0 0;\n",
              "      width: 32px;\n",
              "    }\n",
              "\n",
              "    .colab-df-convert:hover {\n",
              "      background-color: #E2EBFA;\n",
              "      box-shadow: 0px 1px 2px rgba(60, 64, 67, 0.3), 0px 1px 3px 1px rgba(60, 64, 67, 0.15);\n",
              "      fill: #174EA6;\n",
              "    }\n",
              "\n",
              "    .colab-df-buttons div {\n",
              "      margin-bottom: 4px;\n",
              "    }\n",
              "\n",
              "    [theme=dark] .colab-df-convert {\n",
              "      background-color: #3B4455;\n",
              "      fill: #D2E3FC;\n",
              "    }\n",
              "\n",
              "    [theme=dark] .colab-df-convert:hover {\n",
              "      background-color: #434B5C;\n",
              "      box-shadow: 0px 1px 3px 1px rgba(0, 0, 0, 0.15);\n",
              "      filter: drop-shadow(0px 1px 2px rgba(0, 0, 0, 0.3));\n",
              "      fill: #FFFFFF;\n",
              "    }\n",
              "  </style>\n",
              "\n",
              "    <script>\n",
              "      const buttonEl =\n",
              "        document.querySelector('#df-88a78ed7-d0d3-4ce4-aa52-ae890a39573b button.colab-df-convert');\n",
              "      buttonEl.style.display =\n",
              "        google.colab.kernel.accessAllowed ? 'block' : 'none';\n",
              "\n",
              "      async function convertToInteractive(key) {\n",
              "        const element = document.querySelector('#df-88a78ed7-d0d3-4ce4-aa52-ae890a39573b');\n",
              "        const dataTable =\n",
              "          await google.colab.kernel.invokeFunction('convertToInteractive',\n",
              "                                                    [key], {});\n",
              "        if (!dataTable) return;\n",
              "\n",
              "        const docLinkHtml = 'Like what you see? Visit the ' +\n",
              "          '<a target=\"_blank\" href=https://colab.research.google.com/notebooks/data_table.ipynb>data table notebook</a>'\n",
              "          + ' to learn more about interactive tables.';\n",
              "        element.innerHTML = '';\n",
              "        dataTable['output_type'] = 'display_data';\n",
              "        await google.colab.output.renderOutput(dataTable, element);\n",
              "        const docLink = document.createElement('div');\n",
              "        docLink.innerHTML = docLinkHtml;\n",
              "        element.appendChild(docLink);\n",
              "      }\n",
              "    </script>\n",
              "  </div>\n",
              "\n",
              "\n",
              "<div id=\"df-70500e17-221f-4718-9bc4-8d1081d8bad4\">\n",
              "  <button class=\"colab-df-quickchart\" onclick=\"quickchart('df-70500e17-221f-4718-9bc4-8d1081d8bad4')\"\n",
              "            title=\"Suggest charts.\"\n",
              "            style=\"display:none;\">\n",
              "\n",
              "<svg xmlns=\"http://www.w3.org/2000/svg\" height=\"24px\"viewBox=\"0 0 24 24\"\n",
              "     width=\"24px\">\n",
              "    <g>\n",
              "        <path d=\"M19 3H5c-1.1 0-2 .9-2 2v14c0 1.1.9 2 2 2h14c1.1 0 2-.9 2-2V5c0-1.1-.9-2-2-2zM9 17H7v-7h2v7zm4 0h-2V7h2v10zm4 0h-2v-4h2v4z\"/>\n",
              "    </g>\n",
              "</svg>\n",
              "  </button>\n",
              "\n",
              "<style>\n",
              "  .colab-df-quickchart {\n",
              "      --bg-color: #E8F0FE;\n",
              "      --fill-color: #1967D2;\n",
              "      --hover-bg-color: #E2EBFA;\n",
              "      --hover-fill-color: #174EA6;\n",
              "      --disabled-fill-color: #AAA;\n",
              "      --disabled-bg-color: #DDD;\n",
              "  }\n",
              "\n",
              "  [theme=dark] .colab-df-quickchart {\n",
              "      --bg-color: #3B4455;\n",
              "      --fill-color: #D2E3FC;\n",
              "      --hover-bg-color: #434B5C;\n",
              "      --hover-fill-color: #FFFFFF;\n",
              "      --disabled-bg-color: #3B4455;\n",
              "      --disabled-fill-color: #666;\n",
              "  }\n",
              "\n",
              "  .colab-df-quickchart {\n",
              "    background-color: var(--bg-color);\n",
              "    border: none;\n",
              "    border-radius: 50%;\n",
              "    cursor: pointer;\n",
              "    display: none;\n",
              "    fill: var(--fill-color);\n",
              "    height: 32px;\n",
              "    padding: 0;\n",
              "    width: 32px;\n",
              "  }\n",
              "\n",
              "  .colab-df-quickchart:hover {\n",
              "    background-color: var(--hover-bg-color);\n",
              "    box-shadow: 0 1px 2px rgba(60, 64, 67, 0.3), 0 1px 3px 1px rgba(60, 64, 67, 0.15);\n",
              "    fill: var(--button-hover-fill-color);\n",
              "  }\n",
              "\n",
              "  .colab-df-quickchart-complete:disabled,\n",
              "  .colab-df-quickchart-complete:disabled:hover {\n",
              "    background-color: var(--disabled-bg-color);\n",
              "    fill: var(--disabled-fill-color);\n",
              "    box-shadow: none;\n",
              "  }\n",
              "\n",
              "  .colab-df-spinner {\n",
              "    border: 2px solid var(--fill-color);\n",
              "    border-color: transparent;\n",
              "    border-bottom-color: var(--fill-color);\n",
              "    animation:\n",
              "      spin 1s steps(1) infinite;\n",
              "  }\n",
              "\n",
              "  @keyframes spin {\n",
              "    0% {\n",
              "      border-color: transparent;\n",
              "      border-bottom-color: var(--fill-color);\n",
              "      border-left-color: var(--fill-color);\n",
              "    }\n",
              "    20% {\n",
              "      border-color: transparent;\n",
              "      border-left-color: var(--fill-color);\n",
              "      border-top-color: var(--fill-color);\n",
              "    }\n",
              "    30% {\n",
              "      border-color: transparent;\n",
              "      border-left-color: var(--fill-color);\n",
              "      border-top-color: var(--fill-color);\n",
              "      border-right-color: var(--fill-color);\n",
              "    }\n",
              "    40% {\n",
              "      border-color: transparent;\n",
              "      border-right-color: var(--fill-color);\n",
              "      border-top-color: var(--fill-color);\n",
              "    }\n",
              "    60% {\n",
              "      border-color: transparent;\n",
              "      border-right-color: var(--fill-color);\n",
              "    }\n",
              "    80% {\n",
              "      border-color: transparent;\n",
              "      border-right-color: var(--fill-color);\n",
              "      border-bottom-color: var(--fill-color);\n",
              "    }\n",
              "    90% {\n",
              "      border-color: transparent;\n",
              "      border-bottom-color: var(--fill-color);\n",
              "    }\n",
              "  }\n",
              "</style>\n",
              "\n",
              "  <script>\n",
              "    async function quickchart(key) {\n",
              "      const quickchartButtonEl =\n",
              "        document.querySelector('#' + key + ' button');\n",
              "      quickchartButtonEl.disabled = true;  // To prevent multiple clicks.\n",
              "      quickchartButtonEl.classList.add('colab-df-spinner');\n",
              "      try {\n",
              "        const charts = await google.colab.kernel.invokeFunction(\n",
              "            'suggestCharts', [key], {});\n",
              "      } catch (error) {\n",
              "        console.error('Error during call to suggestCharts:', error);\n",
              "      }\n",
              "      quickchartButtonEl.classList.remove('colab-df-spinner');\n",
              "      quickchartButtonEl.classList.add('colab-df-quickchart-complete');\n",
              "    }\n",
              "    (() => {\n",
              "      let quickchartButtonEl =\n",
              "        document.querySelector('#df-70500e17-221f-4718-9bc4-8d1081d8bad4 button');\n",
              "      quickchartButtonEl.style.display =\n",
              "        google.colab.kernel.accessAllowed ? 'block' : 'none';\n",
              "    })();\n",
              "  </script>\n",
              "</div>\n",
              "    </div>\n",
              "  </div>\n"
            ]
          },
          "metadata": {},
          "execution_count": 37
        }
      ]
    },
    {
      "cell_type": "code",
      "source": [
        "df.info()"
      ],
      "metadata": {
        "colab": {
          "base_uri": "https://localhost:8080/"
        },
        "id": "zpAGiaVv9YkM",
        "outputId": "bcf0ccdf-3035-492e-f9b9-e9f84495a612"
      },
      "execution_count": 38,
      "outputs": [
        {
          "output_type": "stream",
          "name": "stdout",
          "text": [
            "<class 'pandas.core.frame.DataFrame'>\n",
            "RangeIndex: 100836 entries, 0 to 100835\n",
            "Data columns (total 4 columns):\n",
            " #   Column     Non-Null Count   Dtype  \n",
            "---  ------     --------------   -----  \n",
            " 0   userId     100836 non-null  int64  \n",
            " 1   movieId    100836 non-null  int64  \n",
            " 2   rating     100836 non-null  float64\n",
            " 3   timestamp  100836 non-null  int64  \n",
            "dtypes: float64(1), int64(3)\n",
            "memory usage: 3.1 MB\n"
          ]
        }
      ]
    },
    {
      "cell_type": "code",
      "source": [
        "# Number of users\n",
        "print(\"The ratings dataset has \", df['userId'].nunique(), \"unique users\")\n",
        "\n",
        "# Number of movies\n",
        "print(\"The ratings dataset has \", df['movieId'].nunique(), \"unique movies\")\n",
        "\n",
        "# Number of ratings\n",
        "print(\"The ratings dataset has \", df['rating'].nunique(), \"unique ratings\")\n",
        "\n",
        "# List of unique ratings\n",
        "print(\"the unique ratings are \", sorted(df['rating'].unique()))"
      ],
      "metadata": {
        "colab": {
          "base_uri": "https://localhost:8080/"
        },
        "id": "y1IVhmkS-hLb",
        "outputId": "6379455d-44e0-4cd7-e839-348258fcdb1e"
      },
      "execution_count": 41,
      "outputs": [
        {
          "output_type": "stream",
          "name": "stdout",
          "text": [
            "The ratings dataset has  610 unique users\n",
            "The ratings dataset has  9724 unique movies\n",
            "The ratings dataset has  10 unique ratings\n",
            "the unique ratings are  [0.5, 1.0, 1.5, 2.0, 2.5, 3.0, 3.5, 4.0, 4.5, 5.0]\n"
          ]
        }
      ]
    },
    {
      "cell_type": "code",
      "source": [
        "df.head()"
      ],
      "metadata": {
        "colab": {
          "base_uri": "https://localhost:8080/",
          "height": 206
        },
        "id": "l1cho0jJ-xez",
        "outputId": "fac1a5a6-2975-421f-8037-1435d08ad0da"
      },
      "execution_count": 42,
      "outputs": [
        {
          "output_type": "execute_result",
          "data": {
            "text/plain": [
              "   userId  movieId  rating  timestamp\n",
              "0     1       1       4.0   964982703\n",
              "1     1       3       4.0   964981247\n",
              "2     1       6       4.0   964982224\n",
              "3     1      47       5.0   964983815\n",
              "4     1      50       5.0   964982931"
            ],
            "text/html": [
              "\n",
              "  <div id=\"df-e2d9ff3d-0be1-4bfd-b3b3-f8a79f512181\" class=\"colab-df-container\">\n",
              "    <div>\n",
              "<style scoped>\n",
              "    .dataframe tbody tr th:only-of-type {\n",
              "        vertical-align: middle;\n",
              "    }\n",
              "\n",
              "    .dataframe tbody tr th {\n",
              "        vertical-align: top;\n",
              "    }\n",
              "\n",
              "    .dataframe thead th {\n",
              "        text-align: right;\n",
              "    }\n",
              "</style>\n",
              "<table border=\"1\" class=\"dataframe\">\n",
              "  <thead>\n",
              "    <tr style=\"text-align: center;\">\n",
              "      <th></th>\n",
              "      <th>userId</th>\n",
              "      <th>movieId</th>\n",
              "      <th>rating</th>\n",
              "      <th>timestamp</th>\n",
              "    </tr>\n",
              "  </thead>\n",
              "  <tbody>\n",
              "    <tr>\n",
              "      <th>0</th>\n",
              "      <td>1</td>\n",
              "      <td>1</td>\n",
              "      <td>4.0</td>\n",
              "      <td>964982703</td>\n",
              "    </tr>\n",
              "    <tr>\n",
              "      <th>1</th>\n",
              "      <td>1</td>\n",
              "      <td>3</td>\n",
              "      <td>4.0</td>\n",
              "      <td>964981247</td>\n",
              "    </tr>\n",
              "    <tr>\n",
              "      <th>2</th>\n",
              "      <td>1</td>\n",
              "      <td>6</td>\n",
              "      <td>4.0</td>\n",
              "      <td>964982224</td>\n",
              "    </tr>\n",
              "    <tr>\n",
              "      <th>3</th>\n",
              "      <td>1</td>\n",
              "      <td>47</td>\n",
              "      <td>5.0</td>\n",
              "      <td>964983815</td>\n",
              "    </tr>\n",
              "    <tr>\n",
              "      <th>4</th>\n",
              "      <td>1</td>\n",
              "      <td>50</td>\n",
              "      <td>5.0</td>\n",
              "      <td>964982931</td>\n",
              "    </tr>\n",
              "  </tbody>\n",
              "</table>\n",
              "</div>\n",
              "    <div class=\"colab-df-buttons\">\n",
              "\n",
              "  <div class=\"colab-df-container\">\n",
              "    <button class=\"colab-df-convert\" onclick=\"convertToInteractive('df-e2d9ff3d-0be1-4bfd-b3b3-f8a79f512181')\"\n",
              "            title=\"Convert this dataframe to an interactive table.\"\n",
              "            style=\"display:none;\">\n",
              "\n",
              "  <svg xmlns=\"http://www.w3.org/2000/svg\" height=\"24px\" viewBox=\"0 -960 960 960\">\n",
              "    <path d=\"M120-120v-720h720v720H120Zm60-500h600v-160H180v160Zm220 220h160v-160H400v160Zm0 220h160v-160H400v160ZM180-400h160v-160H180v160Zm440 0h160v-160H620v160ZM180-180h160v-160H180v160Zm440 0h160v-160H620v160Z\"/>\n",
              "  </svg>\n",
              "    </button>\n",
              "\n",
              "  <style>\n",
              "    .colab-df-container {\n",
              "      display:flex;\n",
              "      gap: 12px;\n",
              "    }\n",
              "\n",
              "    .colab-df-convert {\n",
              "      background-color: #E8F0FE;\n",
              "      border: none;\n",
              "      border-radius: 50%;\n",
              "      cursor: pointer;\n",
              "      display: none;\n",
              "      fill: #1967D2;\n",
              "      height: 32px;\n",
              "      padding: 0 0 0 0;\n",
              "      width: 32px;\n",
              "    }\n",
              "\n",
              "    .colab-df-convert:hover {\n",
              "      background-color: #E2EBFA;\n",
              "      box-shadow: 0px 1px 2px rgba(60, 64, 67, 0.3), 0px 1px 3px 1px rgba(60, 64, 67, 0.15);\n",
              "      fill: #174EA6;\n",
              "    }\n",
              "\n",
              "    .colab-df-buttons div {\n",
              "      margin-bottom: 4px;\n",
              "    }\n",
              "\n",
              "    [theme=dark] .colab-df-convert {\n",
              "      background-color: #3B4455;\n",
              "      fill: #D2E3FC;\n",
              "    }\n",
              "\n",
              "    [theme=dark] .colab-df-convert:hover {\n",
              "      background-color: #434B5C;\n",
              "      box-shadow: 0px 1px 3px 1px rgba(0, 0, 0, 0.15);\n",
              "      filter: drop-shadow(0px 1px 2px rgba(0, 0, 0, 0.3));\n",
              "      fill: #FFFFFF;\n",
              "    }\n",
              "  </style>\n",
              "\n",
              "    <script>\n",
              "      const buttonEl =\n",
              "        document.querySelector('#df-e2d9ff3d-0be1-4bfd-b3b3-f8a79f512181 button.colab-df-convert');\n",
              "      buttonEl.style.display =\n",
              "        google.colab.kernel.accessAllowed ? 'block' : 'none';\n",
              "\n",
              "      async function convertToInteractive(key) {\n",
              "        const element = document.querySelector('#df-e2d9ff3d-0be1-4bfd-b3b3-f8a79f512181');\n",
              "        const dataTable =\n",
              "          await google.colab.kernel.invokeFunction('convertToInteractive',\n",
              "                                                    [key], {});\n",
              "        if (!dataTable) return;\n",
              "\n",
              "        const docLinkHtml = 'Like what you see? Visit the ' +\n",
              "          '<a target=\"_blank\" href=https://colab.research.google.com/notebooks/data_table.ipynb>data table notebook</a>'\n",
              "          + ' to learn more about interactive tables.';\n",
              "        element.innerHTML = '';\n",
              "        dataTable['output_type'] = 'display_data';\n",
              "        await google.colab.output.renderOutput(dataTable, element);\n",
              "        const docLink = document.createElement('div');\n",
              "        docLink.innerHTML = docLinkHtml;\n",
              "        element.appendChild(docLink);\n",
              "      }\n",
              "    </script>\n",
              "  </div>\n",
              "\n",
              "\n",
              "<div id=\"df-863b8568-bd90-48ee-be04-9d4f15a9ad3d\">\n",
              "  <button class=\"colab-df-quickchart\" onclick=\"quickchart('df-863b8568-bd90-48ee-be04-9d4f15a9ad3d')\"\n",
              "            title=\"Suggest charts.\"\n",
              "            style=\"display:none;\">\n",
              "\n",
              "<svg xmlns=\"http://www.w3.org/2000/svg\" height=\"24px\"viewBox=\"0 0 24 24\"\n",
              "     width=\"24px\">\n",
              "    <g>\n",
              "        <path d=\"M19 3H5c-1.1 0-2 .9-2 2v14c0 1.1.9 2 2 2h14c1.1 0 2-.9 2-2V5c0-1.1-.9-2-2-2zM9 17H7v-7h2v7zm4 0h-2V7h2v10zm4 0h-2v-4h2v4z\"/>\n",
              "    </g>\n",
              "</svg>\n",
              "  </button>\n",
              "\n",
              "<style>\n",
              "  .colab-df-quickchart {\n",
              "      --bg-color: #E8F0FE;\n",
              "      --fill-color: #1967D2;\n",
              "      --hover-bg-color: #E2EBFA;\n",
              "      --hover-fill-color: #174EA6;\n",
              "      --disabled-fill-color: #AAA;\n",
              "      --disabled-bg-color: #DDD;\n",
              "  }\n",
              "\n",
              "  [theme=dark] .colab-df-quickchart {\n",
              "      --bg-color: #3B4455;\n",
              "      --fill-color: #D2E3FC;\n",
              "      --hover-bg-color: #434B5C;\n",
              "      --hover-fill-color: #FFFFFF;\n",
              "      --disabled-bg-color: #3B4455;\n",
              "      --disabled-fill-color: #666;\n",
              "  }\n",
              "\n",
              "  .colab-df-quickchart {\n",
              "    background-color: var(--bg-color);\n",
              "    border: none;\n",
              "    border-radius: 50%;\n",
              "    cursor: pointer;\n",
              "    display: none;\n",
              "    fill: var(--fill-color);\n",
              "    height: 32px;\n",
              "    padding: 0;\n",
              "    width: 32px;\n",
              "  }\n",
              "\n",
              "  .colab-df-quickchart:hover {\n",
              "    background-color: var(--hover-bg-color);\n",
              "    box-shadow: 0 1px 2px rgba(60, 64, 67, 0.3), 0 1px 3px 1px rgba(60, 64, 67, 0.15);\n",
              "    fill: var(--button-hover-fill-color);\n",
              "  }\n",
              "\n",
              "  .colab-df-quickchart-complete:disabled,\n",
              "  .colab-df-quickchart-complete:disabled:hover {\n",
              "    background-color: var(--disabled-bg-color);\n",
              "    fill: var(--disabled-fill-color);\n",
              "    box-shadow: none;\n",
              "  }\n",
              "\n",
              "  .colab-df-spinner {\n",
              "    border: 2px solid var(--fill-color);\n",
              "    border-color: transparent;\n",
              "    border-bottom-color: var(--fill-color);\n",
              "    animation:\n",
              "      spin 1s steps(1) infinite;\n",
              "  }\n",
              "\n",
              "  @keyframes spin {\n",
              "    0% {\n",
              "      border-color: transparent;\n",
              "      border-bottom-color: var(--fill-color);\n",
              "      border-left-color: var(--fill-color);\n",
              "    }\n",
              "    20% {\n",
              "      border-color: transparent;\n",
              "      border-left-color: var(--fill-color);\n",
              "      border-top-color: var(--fill-color);\n",
              "    }\n",
              "    30% {\n",
              "      border-color: transparent;\n",
              "      border-left-color: var(--fill-color);\n",
              "      border-top-color: var(--fill-color);\n",
              "      border-right-color: var(--fill-color);\n",
              "    }\n",
              "    40% {\n",
              "      border-color: transparent;\n",
              "      border-right-color: var(--fill-color);\n",
              "      border-top-color: var(--fill-color);\n",
              "    }\n",
              "    60% {\n",
              "      border-color: transparent;\n",
              "      border-right-color: var(--fill-color);\n",
              "    }\n",
              "    80% {\n",
              "      border-color: transparent;\n",
              "      border-right-color: var(--fill-color);\n",
              "      border-bottom-color: var(--fill-color);\n",
              "    }\n",
              "    90% {\n",
              "      border-color: transparent;\n",
              "      border-bottom-color: var(--fill-color);\n",
              "    }\n",
              "  }\n",
              "</style>\n",
              "\n",
              "  <script>\n",
              "    async function quickchart(key) {\n",
              "      const quickchartButtonEl =\n",
              "        document.querySelector('#' + key + ' button');\n",
              "      quickchartButtonEl.disabled = true;  // To prevent multiple clicks.\n",
              "      quickchartButtonEl.classList.add('colab-df-spinner');\n",
              "      try {\n",
              "        const charts = await google.colab.kernel.invokeFunction(\n",
              "            'suggestCharts', [key], {});\n",
              "      } catch (error) {\n",
              "        console.error('Error during call to suggestCharts:', error);\n",
              "      }\n",
              "      quickchartButtonEl.classList.remove('colab-df-spinner');\n",
              "      quickchartButtonEl.classList.add('colab-df-quickchart-complete');\n",
              "    }\n",
              "    (() => {\n",
              "      let quickchartButtonEl =\n",
              "        document.querySelector('#df-863b8568-bd90-48ee-be04-9d4f15a9ad3d button');\n",
              "      quickchartButtonEl.style.display =\n",
              "        google.colab.kernel.accessAllowed ? 'block' : 'none';\n",
              "    })();\n",
              "  </script>\n",
              "</div>\n",
              "    </div>\n",
              "  </div>\n"
            ]
          },
          "metadata": {},
          "execution_count": 42
        }
      ]
    },
    {
      "cell_type": "code",
      "source": [
        "# Calculate the characteristics of the dataset\n",
        "total_ratings = len(df)\n",
        "unique_users = df['userId'].nunique()\n",
        "unique_movies = df['movieId'].nunique()\n",
        "rating_distribution = df['rating'].value_counts().sort_index()\n",
        "avg_ratings_per_user = total_ratings / unique_users\n",
        "avg_ratings_per_movie = total_ratings / unique_movies\n",
        "\n",
        "total_ratings, unique_users, unique_movies, rating_distribution, avg_ratings_per_user, avg_ratings_per_movie\n"
      ],
      "metadata": {
        "colab": {
          "base_uri": "https://localhost:8080/"
        },
        "id": "Sp_Wl5yn_Hnf",
        "outputId": "791eeeed-405a-4dc8-8775-b471d08c58f1"
      },
      "execution_count": 43,
      "outputs": [
        {
          "output_type": "execute_result",
          "data": {
            "text/plain": [
              "(100836,\n",
              " 610,\n",
              " 9724,\n",
              " 0.5     1370\n",
              " 1.0     2811\n",
              " 1.5     1791\n",
              " 2.0     7551\n",
              " 2.5     5550\n",
              " 3.0    20047\n",
              " 3.5    13136\n",
              " 4.0    26818\n",
              " 4.5     8551\n",
              " 5.0    13211\n",
              " Name: rating, dtype: int64,\n",
              " 165.30491803278687,\n",
              " 10.369806663924312)"
            ]
          },
          "metadata": {},
          "execution_count": 43
        }
      ]
    },
    {
      "cell_type": "markdown",
      "source": [
        "**Observations**\n",
        "\n",
        "Total Ratings: 100,836\n",
        "\n",
        "Unique Users: 610\n",
        "\n",
        "Unique Movies: 9,724\n",
        "\n",
        "Distribution of Ratings:\n",
        "\n",
        "0.5: 1,370\n",
        "\n",
        "1.0: 2,811\n",
        "\n",
        "1.5: 1,791\n",
        "\n",
        "2.0: 7,551\n",
        "\n",
        "2.5: 5,550\n",
        "\n",
        "3.0: 20,047\n",
        "\n",
        "3.5: 13,136\n",
        "\n",
        "4.0: 26,818\n",
        "\n",
        "4.5: 8,551\n",
        "\n",
        "5.0: 13,211\n",
        "\n",
        "Average Number of Ratings per User: ~165.3\n",
        "\n",
        "Average Number of Ratings per Movie: ~10.4"
      ],
      "metadata": {
        "id": "GpKXUwisA0M7"
      }
    },
    {
      "cell_type": "markdown",
      "source": [
        "## Model Creation without SVD"
      ],
      "metadata": {
        "id": "fkzT_0LMBPhy"
      }
    },
    {
      "cell_type": "code",
      "source": [
        "!pip install scikit-surprise # provides tools for building and analyzing recommendation systems"
      ],
      "metadata": {
        "colab": {
          "base_uri": "https://localhost:8080/"
        },
        "id": "qa5NZMy-Akq3",
        "outputId": "00bbf88c-90a5-49f6-f783-5c1a883a69d8"
      },
      "execution_count": 44,
      "outputs": [
        {
          "output_type": "stream",
          "name": "stdout",
          "text": [
            "Requirement already satisfied: scikit-surprise in /usr/local/lib/python3.10/dist-packages (1.1.3)\n",
            "Requirement already satisfied: joblib>=1.0.0 in /usr/local/lib/python3.10/dist-packages (from scikit-surprise) (1.3.2)\n",
            "Requirement already satisfied: numpy>=1.17.3 in /usr/local/lib/python3.10/dist-packages (from scikit-surprise) (1.23.5)\n",
            "Requirement already satisfied: scipy>=1.3.2 in /usr/local/lib/python3.10/dist-packages (from scikit-surprise) (1.11.3)\n"
          ]
        }
      ]
    },
    {
      "cell_type": "code",
      "source": [
        "from surprise import Dataset, Reader\n",
        "from surprise.model_selection import train_test_split\n",
        "\n",
        "reader = Reader(rating_scale=(0.5, 5.0))\n",
        "data = Dataset.load_from_df(df[['userId', 'movieId', 'rating']], reader)\n",
        "trainset, testset = train_test_split(data, test_size=0.25)"
      ],
      "metadata": {
        "id": "GdVag_J9Bn_0"
      },
      "execution_count": 45,
      "outputs": []
    },
    {
      "cell_type": "code",
      "source": [
        "from surprise import KNNBasic, accuracy\n",
        "\n",
        "user_based_collab_filter = KNNBasic(sim_options={'user_based': True})\n",
        "user_based_collab_filter.fit(trainset)\n",
        "predictions = user_based_collab_filter.test(testset)"
      ],
      "metadata": {
        "colab": {
          "base_uri": "https://localhost:8080/"
        },
        "id": "1eF9gZ8OBqZ1",
        "outputId": "cccee551-6155-4bf2-9bdd-039ae4393fc5"
      },
      "execution_count": 46,
      "outputs": [
        {
          "output_type": "stream",
          "name": "stdout",
          "text": [
            "Computing the msd similarity matrix...\n",
            "Done computing similarity matrix.\n"
          ]
        }
      ]
    },
    {
      "cell_type": "code",
      "source": [
        "rmse_user_based = accuracy.rmse(predictions)\n",
        "print(rmse_user_based)"
      ],
      "metadata": {
        "colab": {
          "base_uri": "https://localhost:8080/"
        },
        "id": "_kucrUjfB8c1",
        "outputId": "b8e7c8c7-9bc9-4685-bda8-4d6cd0551587"
      },
      "execution_count": 47,
      "outputs": [
        {
          "output_type": "stream",
          "name": "stdout",
          "text": [
            "RMSE: 0.9500\n",
            "0.9499781500653749\n"
          ]
        }
      ]
    },
    {
      "cell_type": "markdown",
      "source": [
        "## RMSE without SVD\n",
        "(Report the best RMSE by tuning the hyper parameters of the model)"
      ],
      "metadata": {
        "id": "FnhPr3YMCfnx"
      }
    },
    {
      "cell_type": "code",
      "source": [
        "from surprise.model_selection import GridSearchCV\n",
        "\n",
        "param_grid = {\n",
        "    'k': [20, 40, 60, 80, 100],  # max number of neighbors\n",
        "    'sim_options': {\n",
        "        'name': ['msd', 'cosine', 'pearson'],\n",
        "        'user_based': [True],\n",
        "    }\n",
        "}\n",
        "\n",
        "gs = GridSearchCV(KNNBasic, param_grid, measures=['rmse'], cv=3)\n",
        "gs.fit(data)\n",
        "\n",
        "print(gs.best_score['rmse'])\n",
        "print(gs.best_params['rmse'])"
      ],
      "metadata": {
        "colab": {
          "base_uri": "https://localhost:8080/"
        },
        "id": "urKx6mBqCA-s",
        "outputId": "5fea3820-506c-4aa7-e112-5ac14f1cd88b"
      },
      "execution_count": 48,
      "outputs": [
        {
          "output_type": "stream",
          "name": "stdout",
          "text": [
            "Computing the msd similarity matrix...\n",
            "Done computing similarity matrix.\n",
            "Computing the msd similarity matrix...\n",
            "Done computing similarity matrix.\n",
            "Computing the msd similarity matrix...\n",
            "Done computing similarity matrix.\n",
            "Computing the cosine similarity matrix...\n",
            "Done computing similarity matrix.\n",
            "Computing the cosine similarity matrix...\n",
            "Done computing similarity matrix.\n",
            "Computing the cosine similarity matrix...\n",
            "Done computing similarity matrix.\n",
            "Computing the pearson similarity matrix...\n",
            "Done computing similarity matrix.\n",
            "Computing the pearson similarity matrix...\n",
            "Done computing similarity matrix.\n",
            "Computing the pearson similarity matrix...\n",
            "Done computing similarity matrix.\n",
            "Computing the msd similarity matrix...\n",
            "Done computing similarity matrix.\n",
            "Computing the msd similarity matrix...\n",
            "Done computing similarity matrix.\n",
            "Computing the msd similarity matrix...\n",
            "Done computing similarity matrix.\n",
            "Computing the cosine similarity matrix...\n",
            "Done computing similarity matrix.\n",
            "Computing the cosine similarity matrix...\n",
            "Done computing similarity matrix.\n",
            "Computing the cosine similarity matrix...\n",
            "Done computing similarity matrix.\n",
            "Computing the pearson similarity matrix...\n",
            "Done computing similarity matrix.\n",
            "Computing the pearson similarity matrix...\n",
            "Done computing similarity matrix.\n",
            "Computing the pearson similarity matrix...\n",
            "Done computing similarity matrix.\n",
            "Computing the msd similarity matrix...\n",
            "Done computing similarity matrix.\n",
            "Computing the msd similarity matrix...\n",
            "Done computing similarity matrix.\n",
            "Computing the msd similarity matrix...\n",
            "Done computing similarity matrix.\n",
            "Computing the cosine similarity matrix...\n",
            "Done computing similarity matrix.\n",
            "Computing the cosine similarity matrix...\n",
            "Done computing similarity matrix.\n",
            "Computing the cosine similarity matrix...\n",
            "Done computing similarity matrix.\n",
            "Computing the pearson similarity matrix...\n",
            "Done computing similarity matrix.\n",
            "Computing the pearson similarity matrix...\n",
            "Done computing similarity matrix.\n",
            "Computing the pearson similarity matrix...\n",
            "Done computing similarity matrix.\n",
            "Computing the msd similarity matrix...\n",
            "Done computing similarity matrix.\n",
            "Computing the msd similarity matrix...\n",
            "Done computing similarity matrix.\n",
            "Computing the msd similarity matrix...\n",
            "Done computing similarity matrix.\n",
            "Computing the cosine similarity matrix...\n",
            "Done computing similarity matrix.\n",
            "Computing the cosine similarity matrix...\n",
            "Done computing similarity matrix.\n",
            "Computing the cosine similarity matrix...\n",
            "Done computing similarity matrix.\n",
            "Computing the pearson similarity matrix...\n",
            "Done computing similarity matrix.\n",
            "Computing the pearson similarity matrix...\n",
            "Done computing similarity matrix.\n",
            "Computing the pearson similarity matrix...\n",
            "Done computing similarity matrix.\n",
            "Computing the msd similarity matrix...\n",
            "Done computing similarity matrix.\n",
            "Computing the msd similarity matrix...\n",
            "Done computing similarity matrix.\n",
            "Computing the msd similarity matrix...\n",
            "Done computing similarity matrix.\n",
            "Computing the cosine similarity matrix...\n",
            "Done computing similarity matrix.\n",
            "Computing the cosine similarity matrix...\n",
            "Done computing similarity matrix.\n",
            "Computing the cosine similarity matrix...\n",
            "Done computing similarity matrix.\n",
            "Computing the pearson similarity matrix...\n",
            "Done computing similarity matrix.\n",
            "Computing the pearson similarity matrix...\n",
            "Done computing similarity matrix.\n",
            "Computing the pearson similarity matrix...\n",
            "Done computing similarity matrix.\n",
            "0.9516479588534205\n",
            "{'k': 20, 'sim_options': {'name': 'msd', 'user_based': True}}\n"
          ]
        }
      ]
    },
    {
      "cell_type": "markdown",
      "source": [
        "## Model creation using SVD"
      ],
      "metadata": {
        "id": "vniD7rYDCvUU"
      }
    },
    {
      "cell_type": "code",
      "source": [
        "from surprise import SVD\n",
        "\n",
        "svd_model = SVD()\n",
        "svd_model.fit(trainset)\n",
        "svd_predictions = svd_model.test(testset)"
      ],
      "metadata": {
        "id": "Gj6GjfalC0_W"
      },
      "execution_count": 49,
      "outputs": []
    },
    {
      "cell_type": "code",
      "source": [
        "rmse_svd = accuracy.rmse(svd_predictions)\n",
        "print(rmse_svd)"
      ],
      "metadata": {
        "colab": {
          "base_uri": "https://localhost:8080/"
        },
        "id": "8GK7LelNC3rf",
        "outputId": "cc92e6a1-8dec-4ecd-be60-1b98c0bf416a"
      },
      "execution_count": 50,
      "outputs": [
        {
          "output_type": "stream",
          "name": "stdout",
          "text": [
            "RMSE: 0.8767\n",
            "0.876723522134192\n"
          ]
        }
      ]
    },
    {
      "cell_type": "markdown",
      "source": [
        "## Model Tuning for different values of *K*"
      ],
      "metadata": {
        "id": "6taiOtp5DXVQ"
      }
    },
    {
      "cell_type": "code",
      "source": [
        "param_grid = {\n",
        "    'n_factors': [50, 100, 150, 200],\n",
        "    'lr_all': [0.002, 0.005],\n",
        "    'reg_all': [0.02, 0.1]\n",
        "}\n",
        "\n",
        "gs_svd = GridSearchCV(SVD, param_grid, measures=['rmse'], cv=3)\n",
        "gs_svd.fit(data)\n",
        "\n",
        "print(gs_svd.best_score['rmse'])\n",
        "print(gs_svd.best_params['rmse'])"
      ],
      "metadata": {
        "colab": {
          "base_uri": "https://localhost:8080/"
        },
        "id": "PftXHfIfC5Hp",
        "outputId": "f140290e-e917-457c-f50b-64a1282ee781"
      },
      "execution_count": 51,
      "outputs": [
        {
          "output_type": "stream",
          "name": "stdout",
          "text": [
            "0.875569999875002\n",
            "{'n_factors': 50, 'lr_all': 0.005, 'reg_all': 0.1}\n"
          ]
        }
      ]
    },
    {
      "cell_type": "markdown",
      "source": [
        "## **Generate top-10 recommendations for a target user**"
      ],
      "metadata": {
        "id": "hCxriG8xDfe2"
      }
    },
    {
      "cell_type": "code",
      "source": [
        "def get_top_n_recommendations_with_actual(predictions, n=10):\n",
        "    # Map the predictions to each user\n",
        "    top_n = {}\n",
        "    for uid, iid, true_r, est, _ in predictions:\n",
        "        top_n.setdefault(uid, []).append((iid, true_r, est))\n",
        "\n",
        "    # Sort the predictions for each user and retrieve the n highest ones\n",
        "    for uid, user_ratings in top_n.items():\n",
        "        user_ratings.sort(key=lambda x: x[2], reverse=True)  # Sort by estimated rating\n",
        "        top_n[uid] = user_ratings[:n]\n",
        "\n",
        "    return top_n"
      ],
      "metadata": {
        "id": "KdkNlJRFC6N8"
      },
      "execution_count": 52,
      "outputs": []
    },
    {
      "cell_type": "code",
      "source": [
        "top_recommendations_with_actual = get_top_n_recommendations_with_actual(svd_predictions, n=10)\n",
        "\n",
        "print('Movie Id \\t Actual Rating \\t Predicted Rating')\n",
        "target_user = 1\n",
        "for i in top_recommendations_with_actual[target_user]:\n",
        "    print(i[0], '\\t\\t', i[1], '\\t\\t', i[2])\n",
        "\n",
        "print(\"The top n predicted ratings were recommended to the user.\")"
      ],
      "metadata": {
        "colab": {
          "base_uri": "https://localhost:8080/"
        },
        "id": "dF38uswaDpsv",
        "outputId": "dcf03749-6e11-428d-a7a2-9cd497bc3b63"
      },
      "execution_count": 53,
      "outputs": [
        {
          "output_type": "stream",
          "name": "stdout",
          "text": [
            "Movie Id \t Actual Rating \t Predicted Rating\n",
            "260 \t\t 5.0 \t\t 5.0\n",
            "1291 \t\t 5.0 \t\t 5.0\n",
            "1219 \t\t 2.0 \t\t 4.9863518986808835\n",
            "1198 \t\t 5.0 \t\t 4.919494175627743\n",
            "3703 \t\t 5.0 \t\t 4.903227981045364\n",
            "2858 \t\t 5.0 \t\t 4.890779540000871\n",
            "2916 \t\t 4.0 \t\t 4.796825896108422\n",
            "1954 \t\t 5.0 \t\t 4.793032071194854\n",
            "1220 \t\t 5.0 \t\t 4.7841164855544775\n",
            "2329 \t\t 5.0 \t\t 4.783894627363631\n",
            "The top n predicted ratings were recommended to the user.\n"
          ]
        }
      ]
    },
    {
      "cell_type": "markdown",
      "source": [
        "# **Conclusion**\n",
        "\n",
        "First we did SVD on a toy dataset.\n",
        "We observed that as the value of K increases, the RMSE also decreases. In our exploration of the MovieLens dataset, we delved into recommendation system methodologies, starting with user-based collaborative filtering and progressing to matrix factorization via Singular Value Decomposition (SVD). While collaborative filtering leverages user similarities to predict preferences, SVD uncovers latent factors that drive user-movie interactions. Evaluating models using the RMSE metric highlighted their predictive accuracy. Visualization efforts, though faced with technical challenges, aimed to offer insights into user rating behaviors and patterns. Ultimately, the endeavor showcased the potential of data-driven techniques in curating personalized movie recommendations, emphasizing the synergy between data exploration, modeling, evaluation, and user-centric output."
      ],
      "metadata": {
        "id": "dYs1ZrBVNMg1"
      }
    }
  ]
}